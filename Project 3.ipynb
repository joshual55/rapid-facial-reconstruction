{
 "cells": [
  {
   "cell_type": "markdown",
   "id": "eb952e4b",
   "metadata": {},
   "source": [
    "# Project 3: Deepening, Extending, or Reimagining Your Multimodal Transformer"
   ]
  },
  {
   "cell_type": "markdown",
   "id": "3465778c",
   "metadata": {},
   "source": [
    "## Objective: \n",
    "Project 3 is your opportunity to build upon your work from Project 2—either by improving your model, applying it to a real-world task, exploring an alternative architecture, or extending it with creative new capabilities. You’ve already taken your first steps into the world of multimodal AI—now, it’s time to refine, compare, expand, or innovate.\n",
    "\n",
    "---\n",
    "\n",
    "You’ll choose one of four clear directions for this phase:"
   ]
  },
  {
   "cell_type": "markdown",
   "id": "30333385",
   "metadata": {},
   "source": [
    "## Project Direction (Pick One)\n",
    "\n",
    "### **1. Refining Your Architecture**\n",
    "\n",
    "**Goal:**\n",
    "\n",
    "Revisit your Project 2 architecture and improve it through thoughtful tuning, fusion modifications, or deeper theoretical investigation.\n",
    "\n",
    "**Possible upgrades:**\n",
    "\n",
    "- Optimize attention mechanisms (e.g., multi-head cross-attention tweaks).\n",
    "\n",
    "- Improve your loss function, tokenizer, or positional encoding.\n",
    "\n",
    "- Replace pretrained components with your own lightweight alternatives.\n",
    "\n",
    "*Ideal if: Your Project 2 worked well but felt rushed or left room for technical improvement.*\n",
    "\n",
    "\n",
    "### **2. Adding a Meaningful Use Case**\n",
    "\n",
    "**Goal:**\n",
    "\n",
    "Keep your existing architecture and focus on applying it to a real-world or domain-specific task.\n",
    "\n",
    "**Example ideas:**\n",
    "\n",
    "- Use your VQA system for medical images or environmental data.\n",
    "\n",
    "- Build a captioning model for surveillance or accessibility purposes.\n",
    "\n",
    "- Apply spoken command classification to IoT/home automation.\n",
    "\n",
    "*Ideal if: Your model was strong in Project 2 and now you want to ground it in a practical context*.\n",
    "\n",
    "\n",
    "### **3. Exploring a Different Architecture**\n",
    "\n",
    "**Goal:**\n",
    "Tackle the same problem from Project 2 using a new Transformer-based architecture or paradigm.\n",
    "\n",
    "**Try out:**\n",
    "\n",
    "- A dual-stream vs. unified encoder.\n",
    "\n",
    "- Vision-Language Transformers (e.g., ViLT, BLIP, CLIP, Flamingo).\n",
    "\n",
    "- Compare your new results to Project 2 and reflect on the tradeoffs.\n",
    "\n",
    "*Ideal if: You want to strengthen your experimental and comparative skills.*\n",
    "\n",
    "\n",
    "### **4. Extending Functionality**\n",
    "\n",
    "**Goal:**\n",
    "\n",
    "Start from your Project 2 model and add a major new capability.\n",
    "\n",
    "**Ideas:**\n",
    "\n",
    "- Add multilingual support.\n",
    "\n",
    "- Build a retrieval + generation pipeline (e.g., retrieve videos, then describe them).\n",
    "\n",
    "- Incorporate more than two modalities (text + image + audio?).\n",
    "\n",
    "*Ideal if: You want to explore creative system design with room for storytelling.*\n",
    "\n",
    "---"
   ]
  },
  {
   "cell_type": "markdown",
   "id": "2e152a59",
   "metadata": {},
   "source": [
    "## Deliverables"
   ]
  },
  {
   "cell_type": "markdown",
   "id": "a5c045e5",
   "metadata": {},
   "source": [
    "Your submission package should include:\n",
    "\n",
    "1. **GitHub Repository** (Well-documented code). add and commit the final version of your work, and push your code to your GitHub repository. You can have multiple notebooks. It is up to you.\n",
    "\n",
    "\n",
    "2. **Project Report** – IEEE-format paper (no limits for the pages!!). Write a paper addressing the architecture, tasks outcomes and reflections I strongly recommend using Overleaf. [Here is an IEEE Latex template in case you want to use it](https://www.overleaf.com/latex/templates/ieee-conference-template/grfzhhncsfqn). When writing this report, consider a business-oriented person as your reader - THINK ABOUT CONFERENCES AND PUBLICATIONS!!. **Required: Include details about your hybrid architecture. I WANT TO SEE VISUAL REPRESENTATIONS!!!!** Also, include insights about:\n",
    "\n",
    "\n",
    "    - Significance of your implementation\n",
    "    - Accuracy, loss curves, feature importance.\n",
    "    - What worked, what didn’t, what’s next?\n",
    "    - Where could this be applied?\n",
    "\n",
    "\n",
    "3. **Demo Link or Video** (Showcasing your model’s workflow)\n",
    "\n",
    "\n",
    "4. **README.md file**. Edit the readme.md file in your repository and how to use your code. Ensure reproducibility (environment requirements, requirements.txt, or environment.yml)\n",
    "\n",
    "\n",
    "**``Submit the URL of your GitHub Repository as your assignment submission on Canvas.``**"
   ]
  },
  {
   "cell_type": "markdown",
   "id": "4ad082da",
   "metadata": {},
   "source": [
    "## Final Note\n",
    "\n",
    "The deliverables from your projets 3—your refined models, reports, and demos—will serve as the foundation for your final poster presentation. This poster will compile your results across all three projects and showcase the best of your work: your creativity, technical skills, and storytelling ability. Think of it as your portfolio piece for academic peers, future employers, or research mentors. Make it count!"
   ]
  },
  {
   "cell_type": "code",
   "execution_count": null,
   "id": "7c77d5b1",
   "metadata": {},
   "outputs": [],
   "source": []
  }
 ],
 "metadata": {
  "kernelspec": {
   "display_name": "Python 3 (ipykernel)",
   "language": "python",
   "name": "python3"
  },
  "language_info": {
   "codemirror_mode": {
    "name": "ipython",
    "version": 3
   },
   "file_extension": ".py",
   "mimetype": "text/x-python",
   "name": "python",
   "nbconvert_exporter": "python",
   "pygments_lexer": "ipython3",
   "version": "3.9.20"
  }
 },
 "nbformat": 4,
 "nbformat_minor": 5
}
